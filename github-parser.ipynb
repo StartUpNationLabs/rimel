{
 "cells": [
  {
   "cell_type": "markdown",
   "metadata": {},
   "source": [
    "# Notebook dedicated to the github parsing for our RIMEL project\n",
    "## Authors : \n",
    "- Fabien Airaud\n",
    "- Axel Delille\n",
    "- Yvann Ponce\n",
    "- Apoorva Srinivas Appadoo\n",
    "---"
   ]
  },
  {
   "cell_type": "code",
   "execution_count": 1,
   "metadata": {},
   "outputs": [
    {
     "name": "stdout",
     "output_type": "stream",
     "text": [
      "Requirement already satisfied: selenium in c:\\users\\axel\\appdata\\local\\programs\\python\\python313\\lib\\site-packages (4.27.1)\n",
      "Requirement already satisfied: urllib3<3,>=1.26 in c:\\users\\axel\\appdata\\local\\programs\\python\\python313\\lib\\site-packages (from urllib3[socks]<3,>=1.26->selenium) (2.2.3)\n",
      "Requirement already satisfied: trio~=0.17 in c:\\users\\axel\\appdata\\local\\programs\\python\\python313\\lib\\site-packages (from selenium) (0.27.0)\n",
      "Requirement already satisfied: trio-websocket~=0.9 in c:\\users\\axel\\appdata\\local\\programs\\python\\python313\\lib\\site-packages (from selenium) (0.11.1)\n",
      "Requirement already satisfied: certifi>=2021.10.8 in c:\\users\\axel\\appdata\\local\\programs\\python\\python313\\lib\\site-packages (from selenium) (2024.8.30)\n",
      "Requirement already satisfied: typing_extensions~=4.9 in c:\\users\\axel\\appdata\\local\\programs\\python\\python313\\lib\\site-packages (from selenium) (4.12.2)\n",
      "Requirement already satisfied: websocket-client~=1.8 in c:\\users\\axel\\appdata\\local\\programs\\python\\python313\\lib\\site-packages (from selenium) (1.8.0)\n",
      "Requirement already satisfied: attrs>=23.2.0 in c:\\users\\axel\\appdata\\local\\programs\\python\\python313\\lib\\site-packages (from trio~=0.17->selenium) (24.2.0)\n",
      "Requirement already satisfied: sortedcontainers in c:\\users\\axel\\appdata\\local\\programs\\python\\python313\\lib\\site-packages (from trio~=0.17->selenium) (2.4.0)\n",
      "Requirement already satisfied: idna in c:\\users\\axel\\appdata\\local\\programs\\python\\python313\\lib\\site-packages (from trio~=0.17->selenium) (3.10)\n",
      "Requirement already satisfied: outcome in c:\\users\\axel\\appdata\\local\\programs\\python\\python313\\lib\\site-packages (from trio~=0.17->selenium) (1.3.0.post0)\n",
      "Requirement already satisfied: sniffio>=1.3.0 in c:\\users\\axel\\appdata\\local\\programs\\python\\python313\\lib\\site-packages (from trio~=0.17->selenium) (1.3.1)\n",
      "Requirement already satisfied: cffi>=1.14 in c:\\users\\axel\\appdata\\local\\programs\\python\\python313\\lib\\site-packages (from trio~=0.17->selenium) (1.17.1)\n",
      "Requirement already satisfied: wsproto>=0.14 in c:\\users\\axel\\appdata\\local\\programs\\python\\python313\\lib\\site-packages (from trio-websocket~=0.9->selenium) (1.2.0)\n",
      "Requirement already satisfied: pysocks!=1.5.7,<2.0,>=1.5.6 in c:\\users\\axel\\appdata\\local\\programs\\python\\python313\\lib\\site-packages (from urllib3[socks]<3,>=1.26->selenium) (1.7.1)\n",
      "Requirement already satisfied: pycparser in c:\\users\\axel\\appdata\\local\\programs\\python\\python313\\lib\\site-packages (from cffi>=1.14->trio~=0.17->selenium) (2.22)\n",
      "Requirement already satisfied: h11<1,>=0.9.0 in c:\\users\\axel\\appdata\\local\\programs\\python\\python313\\lib\\site-packages (from wsproto>=0.14->trio-websocket~=0.9->selenium) (0.14.0)\n",
      "Note: you may need to restart the kernel to use updated packages.\n"
     ]
    }
   ],
   "source": [
    "%pip install selenium"
   ]
  },
  {
   "cell_type": "code",
   "execution_count": 2,
   "metadata": {},
   "outputs": [],
   "source": [
    "from selenium import webdriver\n",
    "from selenium.webdriver.common.by import By\n",
    "from selenium.webdriver.chrome.options import Options\n",
    "from selenium.webdriver.common.keys import Keys\n",
    "from selenium.webdriver.support.ui import WebDriverWait\n",
    "from selenium.webdriver.support import expected_conditions as EC\n",
    "\n",
    "from dotenv import load_dotenv\n",
    "from os import getenv\n",
    "\n",
    "import urllib.parse\n",
    "import json\n"
   ]
  },
  {
   "cell_type": "markdown",
   "metadata": {},
   "source": [
    "First step is to prepare all variables required"
   ]
  },
  {
   "cell_type": "code",
   "execution_count": 3,
   "metadata": {},
   "outputs": [],
   "source": [
    "def load_and_process_config(file_path):\n",
    "    with open(file_path, 'r') as file:\n",
    "        config_data = json.load(file)\n",
    "    return config_data"
   ]
  },
  {
   "cell_type": "code",
   "execution_count": 4,
   "metadata": {},
   "outputs": [],
   "source": [
    "# Set up Chrome options\n",
    "chrome_options = Options()\n",
    "chrome_options.add_argument(\"user-agent=Mozilla/5.0 (Windows NT 10.0; Win64; x64) AppleWebKit/537.36 (KHTML, like Gecko) Chrome/58.0.3029.110 Safari/537.3\")\n",
    "\n",
    "# Fetching github credentials\n",
    "load_dotenv()\n",
    "githubUsername = getenv(\"GH_USERNAME\")\n",
    "githubPassword = getenv(\"GH_PASSWORD\")\n",
    "\n",
    "# Config filepath, relative to this file\n",
    "config = \"conf.json\"\n",
    "output_file = \"output.json\""
   ]
  },
  {
   "cell_type": "markdown",
   "metadata": {},
   "source": [
    "Here we define the utilities method to parse the github search page"
   ]
  },
  {
   "cell_type": "code",
   "execution_count": 10,
   "metadata": {},
   "outputs": [],
   "source": [
    "def convert_github_placeholder_to_int(value_str):\n",
    "    # Remove any extra spaces\n",
    "    value_str = value_str.strip()\n",
    "\n",
    "    # Handle different suffixes\n",
    "    if value_str.endswith('k'):\n",
    "        return int(float(value_str[:-1]) * 1000)\n",
    "    elif value_str.endswith('M'):\n",
    "        return int(float(value_str[:-1]) * 1000000)\n",
    "    elif value_str.endswith('B'):\n",
    "        return int(float(value_str[:-1]) * 1000000000)\n",
    "    else:\n",
    "        # If no suffix, simply convert the string to an integer\n",
    "        return int(value_str)\n",
    "\n",
    "def parseGithubSearch(driver: webdriver, url: str) -> int :\n",
    "    driver.get(url)\n",
    "\n",
    "    # Wait for the page to be fully loaded\n",
    "    WebDriverWait(driver, 10).until(\n",
    "        lambda d: d.execute_script('return document.readyState') == 'complete'\n",
    "    )\n",
    "    \n",
    "    # Step 6: Perform any further actions (for example, scraping the page)\n",
    "    # Locate the div with class \"Box-sc-g0xbh4-0 cAMcRf\" and find the span inside it\n",
    "    span_element = WebDriverWait(driver, 10).until(\n",
    "        EC.presence_of_element_located((\n",
    "            By.XPATH, \"//div[contains(@class, 'Box-sc-g0xbh4-0') and contains(@class, 'cAMcRf')]//span[contains(@class, 'prc-Text-Text-0ima0')]\"\n",
    "        ))\n",
    "    )\n",
    "\n",
    "    # Extract the text from the span\n",
    "    span_text = span_element.text\n",
    "    return convert_github_placeholder_to_int(span_text)\n",
    "\n",
    "def generateGithubParsingFromParams(driver, codeToSearch: str, extensions: list[str]) -> int :\n",
    "    extensionString : str = \"\"\n",
    "    \n",
    "    if not extensions or extensions == [] :\n",
    "        extensionString = \"\"  # Return empty string if the list is empty\n",
    "    \n",
    "    # If there's only one extension, don't add 'OR'\n",
    "    if len(extensions) == 1:\n",
    "        extensionString = f\"path:*.{extensions[0]}\"\n",
    "    \n",
    "    if len(extensions) > 1 :\n",
    "        extensionString = f'({\" OR \".join([f\"path:*.{ext}\" for ext in extensions])})'\n",
    "        \n",
    "    query : str = ''\n",
    "    if codeToSearch[0] == '/' and codeToSearch[-1] == '/' :\n",
    "        query = f'{codeToSearch} {extensionString}'\n",
    "    else :\n",
    "        query : str = f'\"{codeToSearch}\" {extensionString}'\n",
    "    finalString = f'https://github.com/search?q={urllib.parse.quote(query)}&type=code'\n",
    "    print(finalString)\n",
    "    #return parseGithubSearch(driver, finalString)\n",
    "\n",
    "def process_config_and_fetch_numbers(driver, file_path):\n",
    "    config = load_and_process_config(file_path)\n",
    "\n",
    "    for item in config:\n",
    "        codeToSearch = item['query']\n",
    "        extensions = item['extensions']\n",
    "        number_of_results = generateGithubParsingFromParams(driver, codeToSearch, extensions)\n",
    "        item[\"number\"] = number_of_results\n",
    "    \n",
    "    return config"
   ]
  },
  {
   "cell_type": "markdown",
   "metadata": {},
   "source": [
    "Now that everything is set up we'll do the parsing for real"
   ]
  },
  {
   "cell_type": "code",
   "execution_count": 6,
   "metadata": {},
   "outputs": [],
   "source": [
    "# Step 1: Go to GitHub login page\n",
    "driver = webdriver.Chrome(options=chrome_options)\n",
    "driver.get(\"https://github.com/login\")\n",
    "\n",
    "# Step 2: Wait for the username and password fields to be visible and fill them\n",
    "username_field = WebDriverWait(driver, 10).until(\n",
    "    EC.visibility_of_element_located((By.ID, \"login_field\"))\n",
    ")\n",
    "password_field = driver.find_element(By.ID, \"password\")\n",
    "\n",
    "# Fill in the login credentials\n",
    "username_field.send_keys(githubUsername)\n",
    "password_field.send_keys(githubPassword)\n",
    "\n",
    "# Submit the form by clicking the \"Sign in\" button\n",
    "login_button = driver.find_element(By.NAME, \"commit\")\n",
    "login_button.click()\n",
    "\n",
    "# Step 3: Wait for the login to complete (you can adjust this based on what you want to check)\n",
    "WebDriverWait(driver, 10).until(\n",
    "    EC.presence_of_element_located((By.XPATH, \"//span[contains(text(),'Pull requests')]\"))\n",
    ")\n",
    "\n",
    "# Step 4: Now you're logged in, you can go to your search page or other pages\n",
    "results = process_config_and_fetch_numbers(driver, config)\n",
    "\n",
    "# Step 7: Close the browser\n",
    "driver.quit()"
   ]
  },
  {
   "cell_type": "markdown",
   "metadata": {},
   "source": [
    "Save the result into a json to not rerun the parsing to see the data vizualisation again"
   ]
  },
  {
   "cell_type": "code",
   "execution_count": 7,
   "metadata": {},
   "outputs": [
    {
     "name": "stdout",
     "output_type": "stream",
     "text": [
      "[{'tool': 'cml', 'query': 'iterative/setup-cml@v1', 'extensions': ['yml', 'yaml'], 'number': 716}, {'tool': 'cml', 'query': 'cml runner launch', 'extensions': ['yml', 'yaml', 'sh'], 'number': 50}, {'tool': 'cml', 'query': 'cml comment create', 'extensions': ['yml', 'yaml', 'sh'], 'number': 243}, {'tool': 'cml', 'query': 'cml check create', 'extensions': ['yml', 'yaml', 'sh'], 'number': 6}, {'tool': 'cml', 'query': 'cml pr create', 'extensions': ['yml', 'yaml', 'sh'], 'number': 26}, {'tool': 'cml', 'query': 'cml tensorboard connect', 'extensions': ['yml', 'yaml', 'sh'], 'number': 3}, {'tool': 'ClearML', 'query': 'from clearml.automation', 'extensions': ['py', 'ipynb'], 'number': 271}, {'tool': 'ClearML', 'query': 'from clearml import Task', 'extensions': ['py', 'ipynb'], 'number': 1900}, {'tool': 'ClearML', 'query': 'clearml-agent', 'extensions': ['py', 'ipynb'], 'number': 302}, {'tool': 'ClearML', 'query': 'clearml-session', 'extensions': ['py', 'ipynb'], 'number': 5}, {'tool': 'ClearML', 'query': 'clearml-server', 'extensions': ['py', 'ipynb'], 'number': 486}, {'tool': 'MLflow', 'query': 'mlflow.start_run', 'extensions': ['py', 'ipynb'], 'number': 28400}, {'tool': 'MLflow', 'query': 'mlflow.log_params', 'extensions': ['py', 'ipynb'], 'number': 10800}, {'tool': 'MLflow', 'query': 'mlflow.log_metrics', 'extensions': ['py', 'ipynb'], 'number': 5100}, {'tool': 'MLflow', 'query': 'mlflow.register_model', 'extensions': ['py', 'ipynb'], 'number': 5200}, {'tool': 'MLflow', 'query': 'MlflowClient', 'extensions': ['py', 'ipynb'], 'number': 15100}, {'tool': 'MLflow', 'query': 'mlflow.set_registry_uri', 'extensions': ['py', 'ipynb'], 'number': 2700}, {'tool': 'MLflow', 'query': 'mlflow.pyfunc', 'extensions': ['py', 'ipynb'], 'number': 13100}, {'tool': 'MLflow', 'query': 'mlflow.recipes', 'extensions': ['py', 'ipynb'], 'number': 438}, {'tool': 'Kubeflow', 'query': 'from kfp', 'extensions': ['py', 'ipynb'], 'number': 14700}, {'tool': 'Kubeflow', 'query': 'from kubeflow.katib', 'extensions': ['py', 'ipynb'], 'number': 328}, {'tool': 'Kubeflow', 'query': 'kustomize', 'extensions': ['py', 'ipynb'], 'number': 1900}, {'tool': 'Kubeflow', 'query': 'from model_registry', 'extensions': ['py', 'ipynb'], 'number': 223}, {'tool': 'Kubeflow', 'query': 'from kserve', 'extensions': ['py', 'ipynb'], 'number': 2300}, {'tool': 'Kubeflow', 'query': 'import kserve', 'extensions': ['py', 'ipynb'], 'number': 1300}, {'tool': 'Kubeflow', 'query': 'kubectl', 'extensions': ['py', 'ipynb', 'yml', 'yaml', 'sh'], 'number': 514000}, {'tool': 'Kubeflow', 'query': 'sparkctl', 'extensions': ['py', 'ipynb', 'yml', 'yaml', 'sh'], 'number': 67}, {'tool': 'Kubeflow', 'query': 'from kubeflow.training', 'extensions': ['py', 'ipynb'], 'number': 520}, {'tool': 'Kubeflow', 'query': 'from kubeflow.storage_initializer', 'extensions': ['py', 'ipynb'], 'number': 18}, {'tool': 'Kubeflow', 'query': 'from kserve', 'extensions': ['py', 'ipynb'], 'number': 2300}]\n"
     ]
    }
   ],
   "source": [
    "print(results)"
   ]
  },
  {
   "cell_type": "code",
   "execution_count": 10,
   "metadata": {},
   "outputs": [
    {
     "name": "stdout",
     "output_type": "stream",
     "text": [
      "Data saved to output.json\n"
     ]
    }
   ],
   "source": [
    "with open(output_file, 'w') as json_file:\n",
    "    json.dump(results, json_file, indent=4)\n",
    "\n",
    "print(f\"Data saved to {output_file}\")"
   ]
  }
 ],
 "metadata": {
  "kernelspec": {
   "display_name": "Python 3",
   "language": "python",
   "name": "python3"
  },
  "language_info": {
   "codemirror_mode": {
    "name": "ipython",
    "version": 3
   },
   "file_extension": ".py",
   "mimetype": "text/x-python",
   "name": "python",
   "nbconvert_exporter": "python",
   "pygments_lexer": "ipython3",
   "version": "3.12.6"
  }
 },
 "nbformat": 4,
 "nbformat_minor": 2
}
